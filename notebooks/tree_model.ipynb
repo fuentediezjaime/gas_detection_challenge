{
 "cells": [
  {
   "cell_type": "code",
   "execution_count": null,
   "metadata": {},
   "outputs": [],
   "source": [
    "#extend path for loading modules\n",
    "import sys\n",
    "sys.path.append(os.path.abspath( '../src/models'))\n",
    "from custom_functions import loss_custom\n",
    "import pandas as pd\n",
    "import os\n",
    "from sklearn.model_selection import train_test_split\n",
    "\n",
    "import lightgbm as lgb"
   ]
  },
  {
   "cell_type": "code",
   "execution_count": null,
   "metadata": {},
   "outputs": [],
   "source": [
    "x_train_total = pd.read_csv('../data/raw/x_train_T9QMMVq.csv')\n",
    "y_train_total = pd.read_csv('../data/raw/y_train_R0MqWmu.csv')\n",
    "\n",
    "x_train, x_test, y_train, y_test = train_test_split(x_train_total, y_train_total, test_size=0.2, random_state=22)\n",
    "\n",
    "x_train = x_train.drop(columns='ID',axis=1)\n",
    "y_train = y_train.drop(columns='ID',axis=1)"
   ]
  },
  {
   "cell_type": "code",
   "execution_count": null,
   "metadata": {},
   "outputs": [],
   "source": [
    "\n"
   ]
  },
  {
   "cell_type": "code",
   "execution_count": null,
   "metadata": {},
   "outputs": [],
   "source": []
  },
  {
   "cell_type": "code",
   "execution_count": null,
   "metadata": {},
   "outputs": [],
   "source": []
  }
 ],
 "metadata": {
  "kernelspec": {
   "display_name": "gas_challenge",
   "language": "python",
   "name": "python3"
  },
  "language_info": {
   "codemirror_mode": {
    "name": "ipython",
    "version": 3
   },
   "file_extension": ".py",
   "mimetype": "text/x-python",
   "name": "python",
   "nbconvert_exporter": "python",
   "pygments_lexer": "ipython3",
   "version": "3.12.9"
  }
 },
 "nbformat": 4,
 "nbformat_minor": 2
}
